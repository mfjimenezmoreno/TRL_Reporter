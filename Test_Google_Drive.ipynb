{
 "cells": [
  {
   "cell_type": "code",
   "execution_count": 1,
   "metadata": {},
   "outputs": [
    {
     "ename": "KeyError",
     "evalue": "'_module'",
     "output_type": "error",
     "traceback": [
      "\u001b[31m---------------------------------------------------------------------------\u001b[39m",
      "\u001b[31mKeyError\u001b[39m                                  Traceback (most recent call last)",
      "\u001b[36mCell\u001b[39m\u001b[36m \u001b[39m\u001b[32mIn[1]\u001b[39m\u001b[32m, line 6\u001b[39m\n\u001b[32m      4\u001b[39m \u001b[38;5;66;03m# Load service account and credentials\u001b[39;00m\n\u001b[32m      5\u001b[39m gauth = GoogleAuth()\n\u001b[32m----> \u001b[39m\u001b[32m6\u001b[39m \u001b[43mgauth\u001b[49m\u001b[43m.\u001b[49m\u001b[43mLoadCredentialsFile\u001b[49m\u001b[43m(\u001b[49m\u001b[33;43m\"\u001b[39;49m\u001b[33;43mtrl-doc-uploader-ca4496d60409.json\u001b[39;49m\u001b[33;43m\"\u001b[39;49m\u001b[43m)\u001b[49m\n\u001b[32m      8\u001b[39m drive = GoogleDrive(gauth)\n\u001b[32m     10\u001b[39m \u001b[38;5;66;03m# Define folder ID\u001b[39;00m\n",
      "\u001b[36mFile \u001b[39m\u001b[32mc:\\Users\\l03130662\\Documents\\GitHub\\TRL_Reporter\\TRL\\Lib\\site-packages\\pydrive2\\auth.py:427\u001b[39m, in \u001b[36mGoogleAuth.LoadCredentialsFile\u001b[39m\u001b[34m(self, credentials_file)\u001b[39m\n\u001b[32m    424\u001b[39m     \u001b[38;5;28mself\u001b[39m._default_storage = Storage(credentials_file)\n\u001b[32m    426\u001b[39m \u001b[38;5;28;01mtry\u001b[39;00m:\n\u001b[32m--> \u001b[39m\u001b[32m427\u001b[39m     \u001b[38;5;28mself\u001b[39m.credentials = \u001b[38;5;28;43mself\u001b[39;49m\u001b[43m.\u001b[49m\u001b[43m_default_storage\u001b[49m\u001b[43m.\u001b[49m\u001b[43mget\u001b[49m\u001b[43m(\u001b[49m\u001b[43m)\u001b[49m\n\u001b[32m    428\u001b[39m \u001b[38;5;28;01mexcept\u001b[39;00m \u001b[38;5;167;01mOSError\u001b[39;00m:\n\u001b[32m    429\u001b[39m     \u001b[38;5;28;01mraise\u001b[39;00m InvalidCredentialsError(\n\u001b[32m    430\u001b[39m         \u001b[33m\"\u001b[39m\u001b[33mCredentials file cannot be symbolic link\u001b[39m\u001b[33m\"\u001b[39m\n\u001b[32m    431\u001b[39m     )\n",
      "\u001b[36mFile \u001b[39m\u001b[32mc:\\Users\\l03130662\\Documents\\GitHub\\TRL_Reporter\\TRL\\Lib\\site-packages\\oauth2client\\client.py:407\u001b[39m, in \u001b[36mStorage.get\u001b[39m\u001b[34m(self)\u001b[39m\n\u001b[32m    405\u001b[39m \u001b[38;5;28mself\u001b[39m.acquire_lock()\n\u001b[32m    406\u001b[39m \u001b[38;5;28;01mtry\u001b[39;00m:\n\u001b[32m--> \u001b[39m\u001b[32m407\u001b[39m     \u001b[38;5;28;01mreturn\u001b[39;00m \u001b[38;5;28;43mself\u001b[39;49m\u001b[43m.\u001b[49m\u001b[43mlocked_get\u001b[49m\u001b[43m(\u001b[49m\u001b[43m)\u001b[49m\n\u001b[32m    408\u001b[39m \u001b[38;5;28;01mfinally\u001b[39;00m:\n\u001b[32m    409\u001b[39m     \u001b[38;5;28mself\u001b[39m.release_lock()\n",
      "\u001b[36mFile \u001b[39m\u001b[32mc:\\Users\\l03130662\\Documents\\GitHub\\TRL_Reporter\\TRL\\Lib\\site-packages\\oauth2client\\file.py:54\u001b[39m, in \u001b[36mStorage.locked_get\u001b[39m\u001b[34m(self)\u001b[39m\n\u001b[32m     51\u001b[39m     \u001b[38;5;28;01mreturn\u001b[39;00m credentials\n\u001b[32m     53\u001b[39m \u001b[38;5;28;01mtry\u001b[39;00m:\n\u001b[32m---> \u001b[39m\u001b[32m54\u001b[39m     credentials = \u001b[43mclient\u001b[49m\u001b[43m.\u001b[49m\u001b[43mCredentials\u001b[49m\u001b[43m.\u001b[49m\u001b[43mnew_from_json\u001b[49m\u001b[43m(\u001b[49m\u001b[43mcontent\u001b[49m\u001b[43m)\u001b[49m\n\u001b[32m     55\u001b[39m     credentials.set_store(\u001b[38;5;28mself\u001b[39m)\n\u001b[32m     56\u001b[39m \u001b[38;5;28;01mexcept\u001b[39;00m \u001b[38;5;167;01mValueError\u001b[39;00m:\n",
      "\u001b[36mFile \u001b[39m\u001b[32mc:\\Users\\l03130662\\Documents\\GitHub\\TRL_Reporter\\TRL\\Lib\\site-packages\\oauth2client\\client.py:302\u001b[39m, in \u001b[36mCredentials.new_from_json\u001b[39m\u001b[34m(cls, json_data)\u001b[39m\n\u001b[32m    299\u001b[39m data = json.loads(json_data_as_unicode)\n\u001b[32m    300\u001b[39m \u001b[38;5;66;03m# Find and call the right classmethod from_json() to restore\u001b[39;00m\n\u001b[32m    301\u001b[39m \u001b[38;5;66;03m# the object.\u001b[39;00m\n\u001b[32m--> \u001b[39m\u001b[32m302\u001b[39m module_name = \u001b[43mdata\u001b[49m\u001b[43m[\u001b[49m\u001b[33;43m'\u001b[39;49m\u001b[33;43m_module\u001b[39;49m\u001b[33;43m'\u001b[39;49m\u001b[43m]\u001b[49m\n\u001b[32m    303\u001b[39m \u001b[38;5;28;01mtry\u001b[39;00m:\n\u001b[32m    304\u001b[39m     module_obj = \u001b[38;5;28m__import__\u001b[39m(module_name)\n",
      "\u001b[31mKeyError\u001b[39m: '_module'"
     ]
    }
   ],
   "source": [
    "from pydrive2.auth import GoogleAuth, ServiceAccountCredentials\n",
    "from pydrive2.drive import GoogleDrive\n",
    "\n",
    "# Load service account and credentials\n",
    "gauth = GoogleAuth()\n",
    "gauth.LoadCredentialsFile(\"trl-doc-uploader-ca4496d60409.json\")\n",
    "\n",
    "drive = GoogleDrive(gauth)\n",
    "\n",
    "# Define folder ID\n",
    "FOLDER_ID = \"1-K5WSgmRiCJD6NI4SQ8VFKLcn6yw-aou\"\n",
    "\n",
    "# Upload a file\n",
    "file_metadata = {\n",
    "    \"title\": \"Uploaded_file.txt\",\n",
    "    \"parents\": [{\"id\": FOLDER_ID}]\n",
    "}\n",
    "\n",
    "file = drive.CreateFile(file_metadata)\n",
    "file.SetContentString(\"Hello, this is an automated upload!\")\n",
    "file.Upload()\n",
    "print(\"Success\")"
   ]
  },
  {
   "cell_type": "code",
   "execution_count": 2,
   "metadata": {},
   "outputs": [
    {
     "name": "stdout",
     "output_type": "stream",
     "text": [
      "Authenticated successfully!\n"
     ]
    }
   ],
   "source": [
    "from pydrive2.auth import GoogleAuth\n",
    "from pydrive2.drive import GoogleDrive\n",
    "from oauth2client.service_account import ServiceAccountCredentials\n",
    "\n",
    "# Define scope\n",
    "scopes = [\"https://www.googleapis.com/auth/drive\"]\n",
    "\n",
    "# Load credentials from JSON file\n",
    "creds = ServiceAccountCredentials.from_json_keyfile_name(\"trl-doc-uploader-ca4496d60409.json\", scopes)\n",
    "\n",
    "# Authenticate\n",
    "gauth = GoogleAuth()\n",
    "gauth.credentials = creds\n",
    "drive = GoogleDrive(gauth)\n",
    "\n",
    "# Test authentication\n",
    "print(\"Authenticated successfully!\")\n"
   ]
  },
  {
   "cell_type": "code",
   "execution_count": 7,
   "metadata": {},
   "outputs": [
    {
     "name": "stdout",
     "output_type": "stream",
     "text": [
      "Folders found:\n",
      "- Prueba_Nuevo_Folder (ID: 18ho9dmVxwWwN7svyknFXDAtxw3hHY5G2)\n",
      "- TRL (ID: 1-K5WSgmRiCJD6NI4SQ8VFKLcn6yw-aou)\n"
     ]
    }
   ],
   "source": [
    "# List all folders in the Service Account's Drive\n",
    "query = \"mimeType='application/vnd.google-apps.folder' and trashed=false\"\n",
    "folder_list = drive.ListFile({'q': query}).GetList()\n",
    "\n",
    "print(\"Folders found:\")\n",
    "for folder in folder_list:\n",
    "    print(f\"- {folder['title']} (ID: {folder['id']})\")\n"
   ]
  },
  {
   "cell_type": "code",
   "execution_count": 8,
   "metadata": {},
   "outputs": [
    {
     "name": "stdout",
     "output_type": "stream",
     "text": [
      "File uploaded successfully to TRL folder!\n"
     ]
    }
   ],
   "source": [
    "trl_folder_id = \"1-K5WSgmRiCJD6NI4SQ8VFKLcn6yw-aou\"  # Your TRL folder ID\n",
    "\n",
    "file_metadata = {\n",
    "    'title': 'test_file.txt',\n",
    "    'parents': [{'id': trl_folder_id}]\n",
    "}\n",
    "\n",
    "file = drive.CreateFile(file_metadata)\n",
    "file.SetContentString(\"This is a test file inside the TRL folder.\")\n",
    "file.Upload()\n",
    "print(\"File uploaded successfully to TRL folder!\")\n"
   ]
  },
  {
   "cell_type": "code",
   "execution_count": 9,
   "metadata": {},
   "outputs": [
    {
     "name": "stdout",
     "output_type": "stream",
     "text": [
      "Files inside TRL folder:\n",
      "- test_file.txt (ID: 1sPCJKyyRGghUtQ3CTMEK3KnxZGwgBuO3)\n"
     ]
    }
   ],
   "source": [
    "query = f\"'{trl_folder_id}' in parents and trashed=false\"\n",
    "file_list = drive.ListFile({'q': query}).GetList()\n",
    "\n",
    "print(\"Files inside TRL folder:\")\n",
    "for file in file_list:\n",
    "    print(f\"- {file['title']} (ID: {file['id']})\")"
   ]
  },
  {
   "cell_type": "code",
   "execution_count": 6,
   "metadata": {},
   "outputs": [
    {
     "name": "stdout",
     "output_type": "stream",
     "text": [
      "Folder 'Prueba_Nuevo_Folder' found.\n"
     ]
    }
   ],
   "source": [
    "def get_or_create_folder(drive, folder_name):\n",
    "    # Search for folder\n",
    "    query = f\"title = '{folder_name}' and mimeType = 'application/vnd.google-apps.folder' and trashed = false\"\n",
    "    folder_list = drive.ListFile({'q': query}).GetList()\n",
    "\n",
    "    if folder_list:\n",
    "        print(f\"Folder '{folder_name}' found.\")\n",
    "        return folder_list[0]['id']  # Return existing folder ID\n",
    "    else:\n",
    "        print(f\"Folder '{folder_name}' not found. Creating it...\")\n",
    "        folder_metadata = {\n",
    "            'title': folder_name,\n",
    "            'mimeType': 'application/vnd.google-apps.folder'\n",
    "        }\n",
    "        folder = drive.CreateFile(folder_metadata)\n",
    "        folder.Upload()\n",
    "        print(f\"Folder '{folder_name}' created successfully!\")\n",
    "        return folder['id']  # Return new folder ID\n",
    "    \n",
    "folder_id = get_or_create_folder(drive, \"Prueba_Nuevo_Folder\")\n",
    "\n"
   ]
  },
  {
   "cell_type": "code",
   "execution_count": null,
   "metadata": {},
   "outputs": [],
   "source": [
    "from pydrive2.auth import GoogleAuth\n",
    "from pydrive2.drive import GoogleDrive\n",
    "from oauth2client.service_account import ServiceAccountCredentials\n",
    "\n",
    "class GoogleDriveFolder:\n",
    "    def __init__(self, credentials_file, folder_id=None):\n",
    "        \"\"\"\n",
    "        Initializes the GoogleDriveFolder instance and authenticates.\n",
    "        :param credentials_file: Path to the service account JSON file.\n",
    "        :param folder_id: Folder ID to work with (None if you want to work with root).\n",
    "        \"\"\"\n",
    "        self.credentials_file = credentials_file\n",
    "        self.folder_id = folder_id\n",
    "        self.drive = self.authenticate_google_drive()\n",
    "\n",
    "    def authenticate_google_drive(self):\n",
    "        \"\"\"\n",
    "        Authenticates using the Service Account and returns the GoogleDrive instance.\n",
    "        \"\"\"\n",
    "        scopes = [\"https://www.googleapis.com/auth/drive\"]\n",
    "        creds = ServiceAccountCredentials.from_json_keyfile_name(self.credentials_file, scopes)\n",
    "        gauth = GoogleAuth()\n",
    "        gauth.credentials = creds\n",
    "        drive = GoogleDrive(gauth)\n",
    "        \n",
    "        print(\"Authenticated successfully!\")\n",
    "        return drive\n",
    "\n",
    "    def get_folder_files(self):\n",
    "        \"\"\"\n",
    "        Lists the files in the root folder or the specified subfolder.\n",
    "        :return: A list of files.\n",
    "        \"\"\"\n",
    "        query = f\"'{self.folder_id}' in parents and trashed=false\" if self.folder_id else \"trashed=false\"\n",
    "        file_list = self.drive.ListFile({'q': query}).GetList()\n",
    "        \n",
    "        print(\"Files found:\")\n",
    "        for file in file_list:\n",
    "            print(f\"- {file['title']} (ID: {file['id']})\")\n",
    "        return file_list\n",
    "\n",
    "    def create_folder(self, folder_name):\n",
    "        \"\"\"\n",
    "        Creates a new folder inside the specified folder or root.\n",
    "        :param folder_name: The name of the folder to create.\n",
    "        :return: The ID of the created folder.\n",
    "        \"\"\"\n",
    "        folder_metadata = {\n",
    "            'title': folder_name,\n",
    "            'mimeType': 'application/vnd.google-apps.folder',\n",
    "            'parents': [{'id': self.folder_id}] if self.folder_id else []\n",
    "        }\n",
    "        \n",
    "        folder = self.drive.CreateFile(folder_metadata)\n",
    "        folder.Upload()\n",
    "        \n",
    "        print(f\"Folder '{folder_name}' created successfully!\")\n",
    "        return folder['id']\n",
    "\n",
    "    def upload_file(self, file_path, user_name, file_name=None):\n",
    "        \"\"\"\n",
    "        Uploads a file to the specified folder (or root if no folder ID).\n",
    "        :param file_path: The path to the file to upload.\n",
    "        :param user_name: The name of the user to prefix the file with.\n",
    "        :param file_name: The custom file name (optional, if None uses the original).\n",
    "        :return: The uploaded file's ID.\n",
    "        \"\"\"\n",
    "        if not file_name:\n",
    "            file_name = file_path.split('/')[-1]\n",
    "\n",
    "        file_metadata = {\n",
    "            'title': f\"{user_name}_{file_name}\",\n",
    "            'parents': [{'id': self.folder_id}] if self.folder_id else []\n",
    "        }\n",
    "        \n",
    "        file = self.drive.CreateFile(file_metadata)\n",
    "        file.SetContentFile(file_path)\n",
    "        file.Upload()\n",
    "        \n",
    "        print(f\"File '{file_name}' uploaded successfully!\")\n",
    "        return file['id']\n",
    "\n",
    "# Example Usage:\n",
    "# Assuming service_account.json is your credentials file and the folder ID is known\n",
    "\n",
    "# Create an instance for the TRL folder\n",
    "folder = GoogleDriveFolder(credentials_file=\"service_account.json\", folder_id=\"1-K5WSgmRiCJD6NI4SQ8VFKLcn6yw-aou\")\n",
    "\n",
    "# 1. List files in the folder\n",
    "folder.get_folder_files()\n",
    "\n",
    "# 2. Create a new folder\n",
    "new_folder_id = folder.create_folder(\"New_SubFolder\")\n",
    "\n",
    "# 3. Upload a PDF file\n",
    "file_id = folder.upload_file(\"path_to_your_file.pdf\", user_name=\"JohnDoe\", file_name=\"test_upload.pdf\")\n"
   ]
  }
 ],
 "metadata": {
  "kernelspec": {
   "display_name": "TRL",
   "language": "python",
   "name": "python3"
  },
  "language_info": {
   "codemirror_mode": {
    "name": "ipython",
    "version": 3
   },
   "file_extension": ".py",
   "mimetype": "text/x-python",
   "name": "python",
   "nbconvert_exporter": "python",
   "pygments_lexer": "ipython3",
   "version": "3.11.9"
  }
 },
 "nbformat": 4,
 "nbformat_minor": 2
}
